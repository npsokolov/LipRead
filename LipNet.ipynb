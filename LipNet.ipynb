{
 "cells": [
  {
   "cell_type": "markdown",
   "id": "a3573a47-3689-4668-b62f-5c8451b2b4e9",
   "metadata": {
    "tags": []
   },
   "source": [
    "# 0. Install and Import Dependencies"
   ]
  },
  {
   "cell_type": "code",
   "execution_count": 372,
   "id": "ddfbccbe-41ae-4c23-98b1-a13868e2b499",
   "metadata": {
    "scrolled": true,
    "tags": []
   },
   "outputs": [
    {
     "name": "stdout",
     "output_type": "stream",
     "text": [
      "Package                      Version\n",
      "---------------------------- ---------\n",
      "absl-py                      1.4.0\n",
      "astroid                      2.4.2\n",
      "asttokens                    2.2.1\n",
      "astunparse                   1.6.3\n",
      "backcall                     0.2.0\n",
      "beautifulsoup4               4.11.2\n",
      "cachetools                   5.3.0\n",
      "certifi                      2022.12.7\n",
      "charset-normalizer           3.1.0\n",
      "colorama                     0.4.6\n",
      "comm                         0.1.2\n",
      "cycler                       0.10.0\n",
      "debugpy                      1.6.6\n",
      "decorator                    5.1.1\n",
      "entrypoints                  0.4\n",
      "executing                    1.2.0\n",
      "filelock                     3.10.0\n",
      "flatbuffers                  23.3.3\n",
      "gast                         0.4.0\n",
      "gdown                        4.6.4\n",
      "google-auth                  2.16.2\n",
      "google-auth-oauthlib         0.4.6\n",
      "google-pasta                 0.2.0\n",
      "grpcio                       1.51.3\n",
      "h5py                         3.8.0\n",
      "idna                         3.4\n",
      "imageio                      2.26.0\n",
      "importlib-metadata           6.0.0\n",
      "ipykernel                    6.21.3\n",
      "ipython                      8.11.0\n",
      "isort                        5.7.0\n",
      "jedi                         0.18.2\n",
      "jupyter_client               8.0.3\n",
      "jupyter_core                 5.3.0\n",
      "keras                        2.11.0\n",
      "kiwisolver                   1.3.1\n",
      "lazy-object-proxy            1.4.3\n",
      "libclang                     15.0.6.1\n",
      "Markdown                     3.4.1\n",
      "MarkupSafe                   2.1.2\n",
      "matplotlib                   3.3.3\n",
      "matplotlib-inline            0.1.6\n",
      "mccabe                       0.6.1\n",
      "mpmath                       1.3.0\n",
      "nest-asyncio                 1.5.6\n",
      "numpy                        1.23.3\n",
      "oauthlib                     3.2.2\n",
      "opencv-python                4.7.0.72\n",
      "opt-einsum                   3.3.0\n",
      "packaging                    23.0\n",
      "pandas                       1.5.0\n",
      "parso                        0.8.3\n",
      "pickleshare                  0.7.5\n",
      "Pillow                       9.4.0\n",
      "pip                          23.1\n",
      "platformdirs                 3.1.1\n",
      "prompt-toolkit               3.0.38\n",
      "protobuf                     3.19.6\n",
      "psutil                       5.9.4\n",
      "pure-eval                    0.2.2\n",
      "pyasn1                       0.4.8\n",
      "pyasn1-modules               0.2.8\n",
      "Pygments                     2.14.0\n",
      "pylint                       2.6.0\n",
      "pyparsing                    2.4.7\n",
      "PySocks                      1.7.1\n",
      "python-dateutil              2.8.2\n",
      "pytz                         2022.4\n",
      "pywin32                      305\n",
      "pyzmq                        25.0.1\n",
      "requests                     2.28.2\n",
      "requests-oauthlib            1.3.1\n",
      "rsa                          4.9\n",
      "seaborn                      0.12.0\n",
      "setuptools                   67.6.0\n",
      "six                          1.16.0\n",
      "soupsieve                    2.4\n",
      "stack-data                   0.6.2\n",
      "style                        1.1.0\n",
      "sympy                        1.11.1\n",
      "tensorboard                  2.11.2\n",
      "tensorboard-data-server      0.6.1\n",
      "tensorboard-plugin-wit       1.8.1\n",
      "tensorflow                   2.11.0\n",
      "tensorflow-estimator         2.11.0\n",
      "tensorflow-intel             2.11.0\n",
      "tensorflow-io-gcs-filesystem 0.31.0\n",
      "termcolor                    2.2.0\n",
      "toml                         0.10.2\n",
      "tornado                      6.2\n",
      "tqdm                         4.65.0\n",
      "traitlets                    5.9.0\n",
      "typing_extensions            4.5.0\n",
      "update                       0.0.1\n",
      "urllib3                      1.26.15\n",
      "wcwidth                      0.2.6\n",
      "Werkzeug                     2.2.3\n",
      "wheel                        0.40.0\n",
      "wrapt                        1.12.1\n",
      "zipp                         3.15.0\n"
     ]
    }
   ],
   "source": [
    "!pip list"
   ]
  },
  {
   "cell_type": "code",
   "execution_count": 373,
   "id": "02f907ea-f669-46c7-adcf-7f257e663448",
   "metadata": {
    "tags": []
   },
   "outputs": [
    {
     "name": "stdout",
     "output_type": "stream",
     "text": [
      "Requirement already satisfied: opencv-python in c:\\users\\user\\appdata\\local\\programs\\python\\python39\\lib\\site-packages (4.7.0.72)\n",
      "Requirement already satisfied: matplotlib in c:\\users\\user\\appdata\\local\\programs\\python\\python39\\lib\\site-packages (3.3.3)\n",
      "Requirement already satisfied: imageio in c:\\users\\user\\appdata\\local\\programs\\python\\python39\\lib\\site-packages (2.26.0)\n",
      "Requirement already satisfied: gdown in c:\\users\\user\\appdata\\local\\programs\\python\\python39\\lib\\site-packages (4.6.4)\n",
      "Requirement already satisfied: tensorflow in c:\\users\\user\\appdata\\local\\programs\\python\\python39\\lib\\site-packages (2.11.0)\n",
      "Requirement already satisfied: numpy>=1.17.0 in c:\\users\\user\\appdata\\local\\programs\\python\\python39\\lib\\site-packages (from opencv-python) (1.23.3)\n",
      "Requirement already satisfied: cycler>=0.10 in c:\\users\\user\\appdata\\local\\programs\\python\\python39\\lib\\site-packages (from matplotlib) (0.10.0)\n",
      "Requirement already satisfied: kiwisolver>=1.0.1 in c:\\users\\user\\appdata\\local\\programs\\python\\python39\\lib\\site-packages (from matplotlib) (1.3.1)\n",
      "Requirement already satisfied: pillow>=6.2.0 in c:\\users\\user\\appdata\\local\\programs\\python\\python39\\lib\\site-packages (from matplotlib) (9.4.0)\n",
      "Requirement already satisfied: pyparsing!=2.0.4,!=2.1.2,!=2.1.6,>=2.0.3 in c:\\users\\user\\appdata\\local\\programs\\python\\python39\\lib\\site-packages (from matplotlib) (2.4.7)\n",
      "Requirement already satisfied: python-dateutil>=2.1 in c:\\users\\user\\appdata\\roaming\\python\\python39\\site-packages (from matplotlib) (2.8.2)\n",
      "Requirement already satisfied: filelock in c:\\users\\user\\appdata\\local\\programs\\python\\python39\\lib\\site-packages (from gdown) (3.10.0)\n",
      "Requirement already satisfied: requests[socks] in c:\\users\\user\\appdata\\local\\programs\\python\\python39\\lib\\site-packages (from gdown) (2.28.2)\n",
      "Requirement already satisfied: six in c:\\users\\user\\appdata\\roaming\\python\\python39\\site-packages (from gdown) (1.16.0)\n",
      "Requirement already satisfied: tqdm in c:\\users\\user\\appdata\\local\\programs\\python\\python39\\lib\\site-packages (from gdown) (4.65.0)\n",
      "Requirement already satisfied: beautifulsoup4 in c:\\users\\user\\appdata\\local\\programs\\python\\python39\\lib\\site-packages (from gdown) (4.11.2)\n",
      "Requirement already satisfied: tensorflow-intel==2.11.0 in c:\\users\\user\\appdata\\local\\programs\\python\\python39\\lib\\site-packages (from tensorflow) (2.11.0)\n",
      "Requirement already satisfied: absl-py>=1.0.0 in c:\\users\\user\\appdata\\local\\programs\\python\\python39\\lib\\site-packages (from tensorflow-intel==2.11.0->tensorflow) (1.4.0)\n",
      "Requirement already satisfied: astunparse>=1.6.0 in c:\\users\\user\\appdata\\local\\programs\\python\\python39\\lib\\site-packages (from tensorflow-intel==2.11.0->tensorflow) (1.6.3)\n",
      "Requirement already satisfied: flatbuffers>=2.0 in c:\\users\\user\\appdata\\local\\programs\\python\\python39\\lib\\site-packages (from tensorflow-intel==2.11.0->tensorflow) (23.3.3)\n",
      "Requirement already satisfied: gast<=0.4.0,>=0.2.1 in c:\\users\\user\\appdata\\local\\programs\\python\\python39\\lib\\site-packages (from tensorflow-intel==2.11.0->tensorflow) (0.4.0)\n",
      "Requirement already satisfied: google-pasta>=0.1.1 in c:\\users\\user\\appdata\\local\\programs\\python\\python39\\lib\\site-packages (from tensorflow-intel==2.11.0->tensorflow) (0.2.0)\n",
      "Requirement already satisfied: h5py>=2.9.0 in c:\\users\\user\\appdata\\local\\programs\\python\\python39\\lib\\site-packages (from tensorflow-intel==2.11.0->tensorflow) (3.8.0)\n",
      "Requirement already satisfied: libclang>=13.0.0 in c:\\users\\user\\appdata\\local\\programs\\python\\python39\\lib\\site-packages (from tensorflow-intel==2.11.0->tensorflow) (15.0.6.1)\n",
      "Requirement already satisfied: opt-einsum>=2.3.2 in c:\\users\\user\\appdata\\local\\programs\\python\\python39\\lib\\site-packages (from tensorflow-intel==2.11.0->tensorflow) (3.3.0)\n",
      "Requirement already satisfied: packaging in c:\\users\\user\\appdata\\roaming\\python\\python39\\site-packages (from tensorflow-intel==2.11.0->tensorflow) (23.0)\n",
      "Requirement already satisfied: protobuf<3.20,>=3.9.2 in c:\\users\\user\\appdata\\local\\programs\\python\\python39\\lib\\site-packages (from tensorflow-intel==2.11.0->tensorflow) (3.19.6)\n",
      "Requirement already satisfied: setuptools in c:\\users\\user\\appdata\\local\\programs\\python\\python39\\lib\\site-packages (from tensorflow-intel==2.11.0->tensorflow) (67.6.0)\n",
      "Requirement already satisfied: termcolor>=1.1.0 in c:\\users\\user\\appdata\\local\\programs\\python\\python39\\lib\\site-packages (from tensorflow-intel==2.11.0->tensorflow) (2.2.0)\n",
      "Requirement already satisfied: typing-extensions>=3.6.6 in c:\\users\\user\\appdata\\local\\programs\\python\\python39\\lib\\site-packages (from tensorflow-intel==2.11.0->tensorflow) (4.5.0)\n",
      "Requirement already satisfied: wrapt>=1.11.0 in c:\\users\\user\\appdata\\roaming\\python\\python39\\site-packages (from tensorflow-intel==2.11.0->tensorflow) (1.12.1)\n",
      "Requirement already satisfied: grpcio<2.0,>=1.24.3 in c:\\users\\user\\appdata\\local\\programs\\python\\python39\\lib\\site-packages (from tensorflow-intel==2.11.0->tensorflow) (1.51.3)\n",
      "Requirement already satisfied: tensorboard<2.12,>=2.11 in c:\\users\\user\\appdata\\local\\programs\\python\\python39\\lib\\site-packages (from tensorflow-intel==2.11.0->tensorflow) (2.11.2)\n",
      "Requirement already satisfied: tensorflow-estimator<2.12,>=2.11.0 in c:\\users\\user\\appdata\\local\\programs\\python\\python39\\lib\\site-packages (from tensorflow-intel==2.11.0->tensorflow) (2.11.0)\n",
      "Requirement already satisfied: keras<2.12,>=2.11.0 in c:\\users\\user\\appdata\\local\\programs\\python\\python39\\lib\\site-packages (from tensorflow-intel==2.11.0->tensorflow) (2.11.0)\n",
      "Requirement already satisfied: tensorflow-io-gcs-filesystem>=0.23.1 in c:\\users\\user\\appdata\\local\\programs\\python\\python39\\lib\\site-packages (from tensorflow-intel==2.11.0->tensorflow) (0.31.0)\n",
      "Requirement already satisfied: soupsieve>1.2 in c:\\users\\user\\appdata\\local\\programs\\python\\python39\\lib\\site-packages (from beautifulsoup4->gdown) (2.4)\n",
      "Requirement already satisfied: charset-normalizer<4,>=2 in c:\\users\\user\\appdata\\local\\programs\\python\\python39\\lib\\site-packages (from requests[socks]->gdown) (3.1.0)\n",
      "Requirement already satisfied: idna<4,>=2.5 in c:\\users\\user\\appdata\\local\\programs\\python\\python39\\lib\\site-packages (from requests[socks]->gdown) (3.4)\n",
      "Requirement already satisfied: urllib3<1.27,>=1.21.1 in c:\\users\\user\\appdata\\local\\programs\\python\\python39\\lib\\site-packages (from requests[socks]->gdown) (1.26.15)\n",
      "Requirement already satisfied: certifi>=2017.4.17 in c:\\users\\user\\appdata\\local\\programs\\python\\python39\\lib\\site-packages (from requests[socks]->gdown) (2022.12.7)\n",
      "Requirement already satisfied: PySocks!=1.5.7,>=1.5.6 in c:\\users\\user\\appdata\\local\\programs\\python\\python39\\lib\\site-packages (from requests[socks]->gdown) (1.7.1)\n",
      "Requirement already satisfied: colorama in c:\\users\\user\\appdata\\roaming\\python\\python39\\site-packages (from tqdm->gdown) (0.4.6)\n",
      "Requirement already satisfied: wheel<1.0,>=0.23.0 in c:\\users\\user\\appdata\\local\\programs\\python\\python39\\lib\\site-packages (from astunparse>=1.6.0->tensorflow-intel==2.11.0->tensorflow) (0.40.0)\n",
      "Requirement already satisfied: google-auth<3,>=1.6.3 in c:\\users\\user\\appdata\\local\\programs\\python\\python39\\lib\\site-packages (from tensorboard<2.12,>=2.11->tensorflow-intel==2.11.0->tensorflow) (2.16.2)\n",
      "Requirement already satisfied: google-auth-oauthlib<0.5,>=0.4.1 in c:\\users\\user\\appdata\\local\\programs\\python\\python39\\lib\\site-packages (from tensorboard<2.12,>=2.11->tensorflow-intel==2.11.0->tensorflow) (0.4.6)\n",
      "Requirement already satisfied: markdown>=2.6.8 in c:\\users\\user\\appdata\\local\\programs\\python\\python39\\lib\\site-packages (from tensorboard<2.12,>=2.11->tensorflow-intel==2.11.0->tensorflow) (3.4.1)\n",
      "Requirement already satisfied: tensorboard-data-server<0.7.0,>=0.6.0 in c:\\users\\user\\appdata\\local\\programs\\python\\python39\\lib\\site-packages (from tensorboard<2.12,>=2.11->tensorflow-intel==2.11.0->tensorflow) (0.6.1)\n",
      "Requirement already satisfied: tensorboard-plugin-wit>=1.6.0 in c:\\users\\user\\appdata\\local\\programs\\python\\python39\\lib\\site-packages (from tensorboard<2.12,>=2.11->tensorflow-intel==2.11.0->tensorflow) (1.8.1)\n",
      "Requirement already satisfied: werkzeug>=1.0.1 in c:\\users\\user\\appdata\\local\\programs\\python\\python39\\lib\\site-packages (from tensorboard<2.12,>=2.11->tensorflow-intel==2.11.0->tensorflow) (2.2.3)\n",
      "Requirement already satisfied: cachetools<6.0,>=2.0.0 in c:\\users\\user\\appdata\\local\\programs\\python\\python39\\lib\\site-packages (from google-auth<3,>=1.6.3->tensorboard<2.12,>=2.11->tensorflow-intel==2.11.0->tensorflow) (5.3.0)\n",
      "Requirement already satisfied: pyasn1-modules>=0.2.1 in c:\\users\\user\\appdata\\local\\programs\\python\\python39\\lib\\site-packages (from google-auth<3,>=1.6.3->tensorboard<2.12,>=2.11->tensorflow-intel==2.11.0->tensorflow) (0.2.8)\n",
      "Requirement already satisfied: rsa<5,>=3.1.4 in c:\\users\\user\\appdata\\local\\programs\\python\\python39\\lib\\site-packages (from google-auth<3,>=1.6.3->tensorboard<2.12,>=2.11->tensorflow-intel==2.11.0->tensorflow) (4.9)\n",
      "Requirement already satisfied: requests-oauthlib>=0.7.0 in c:\\users\\user\\appdata\\local\\programs\\python\\python39\\lib\\site-packages (from google-auth-oauthlib<0.5,>=0.4.1->tensorboard<2.12,>=2.11->tensorflow-intel==2.11.0->tensorflow) (1.3.1)\n",
      "Requirement already satisfied: importlib-metadata>=4.4 in c:\\users\\user\\appdata\\roaming\\python\\python39\\site-packages (from markdown>=2.6.8->tensorboard<2.12,>=2.11->tensorflow-intel==2.11.0->tensorflow) (6.0.0)\n",
      "Requirement already satisfied: MarkupSafe>=2.1.1 in c:\\users\\user\\appdata\\local\\programs\\python\\python39\\lib\\site-packages (from werkzeug>=1.0.1->tensorboard<2.12,>=2.11->tensorflow-intel==2.11.0->tensorflow) (2.1.2)\n",
      "Requirement already satisfied: zipp>=0.5 in c:\\users\\user\\appdata\\roaming\\python\\python39\\site-packages (from importlib-metadata>=4.4->markdown>=2.6.8->tensorboard<2.12,>=2.11->tensorflow-intel==2.11.0->tensorflow) (3.15.0)\n",
      "Requirement already satisfied: pyasn1<0.5.0,>=0.4.6 in c:\\users\\user\\appdata\\local\\programs\\python\\python39\\lib\\site-packages (from pyasn1-modules>=0.2.1->google-auth<3,>=1.6.3->tensorboard<2.12,>=2.11->tensorflow-intel==2.11.0->tensorflow) (0.4.8)\n",
      "Requirement already satisfied: oauthlib>=3.0.0 in c:\\users\\user\\appdata\\local\\programs\\python\\python39\\lib\\site-packages (from requests-oauthlib>=0.7.0->google-auth-oauthlib<0.5,>=0.4.1->tensorboard<2.12,>=2.11->tensorflow-intel==2.11.0->tensorflow) (3.2.2)\n"
     ]
    }
   ],
   "source": [
    "!pip install opencv-python matplotlib imageio gdown tensorflow"
   ]
  },
  {
   "cell_type": "code",
   "execution_count": 374,
   "id": "b24af50c-20b8-409d-ad78-30a933fdd669",
   "metadata": {
    "tags": []
   },
   "outputs": [],
   "source": [
    "import os\n",
    "import cv2\n",
    "import tensorflow as tf\n",
    "import numpy as np\n",
    "from typing import List\n",
    "from matplotlib import pyplot as plt\n",
    "import imageio"
   ]
  },
  {
   "cell_type": "code",
   "execution_count": 375,
   "id": "1e3db0b0-e559-4ad6-91fd-e7414b7d75e6",
   "metadata": {},
   "outputs": [
    {
     "data": {
      "text/plain": [
       "[]"
      ]
     },
     "execution_count": 375,
     "metadata": {},
     "output_type": "execute_result"
    }
   ],
   "source": [
    "tf.config.list_physical_devices('GPU')"
   ]
  },
  {
   "cell_type": "code",
   "execution_count": 376,
   "id": "378d045a-3003-4f93-b7d2-a25a97774a68",
   "metadata": {
    "tags": []
   },
   "outputs": [],
   "source": [
    "physical_devices = tf.config.list_physical_devices('GPU')\n",
    "try:\n",
    "    tf.config.experimental.set_memory_growth(physical_devices[0], True)\n",
    "except:\n",
    "    pass"
   ]
  },
  {
   "cell_type": "markdown",
   "id": "7a19e88e-c7b9-45c1-ae1e-f2109329c71b",
   "metadata": {
    "tags": []
   },
   "source": [
    "# 1. Build Data Loading Functions"
   ]
  },
  {
   "cell_type": "code",
   "execution_count": 377,
   "id": "52d0f641",
   "metadata": {},
   "outputs": [],
   "source": [
    "face_cascade = cv2.CascadeClassifier('C:\\\\ez\\\\PROEKT\\\\haarcascade_frontalface_default.xml')\n",
    "mouth_cascade = cv2.CascadeClassifier('C:\\\\ez\\\\PROEKT\\\\haarcascade_mcs_mouth.xml')"
   ]
  },
  {
   "cell_type": "code",
   "execution_count": 378,
   "id": "9e6fba58",
   "metadata": {},
   "outputs": [],
   "source": [
    "def get_lips(frame):\n",
    "  gray = cv2.cvtColor(frame, cv2.COLOR_BGR2GRAY)\n",
    "  # Обнаружить лица на изображении\n",
    "  #faces = face_cascade.detectMultiScale(gray, 1.3, 5)\n",
    "  # Для каждого лица\n",
    "  #for (x,y,w,h) in faces:\n",
    "  # Выделить область интереса (ROI) для лица\n",
    "  roi_gray = gray[:, :]\n",
    "  roi_color = frame[:, :]\n",
    "  # Обнаружить губы внутри ROI\n",
    "  lips = mouth_cascade.detectMultiScale(roi_gray, 1.7, 11)\n",
    "  # Для каждой пары губ\n",
    "  for (lx,ly,lw,lh) in lips:\n",
    "    return (lx, ly, lx + lw, ly + lh)"
   ]
  },
  {
   "cell_type": "code",
   "execution_count": 379,
   "id": "8fb99c90-e05a-437f-839d-6e772f8c1dd5",
   "metadata": {
    "tags": []
   },
   "outputs": [],
   "source": [
    "import gdown"
   ]
  },
  {
   "cell_type": "code",
   "execution_count": 380,
   "id": "c019e4c6-2af3-4160-99ea-5c8cb009f1a7",
   "metadata": {
    "tags": []
   },
   "outputs": [],
   "source": [
    "# url = 'https://drive.google.com/uc?id=1YlvpDLix3S-U8fd-gqRwPcWXAXm8JwjL'\n",
    "# output = 'data.zip'\n",
    "# gdown.download(url, output, quiet=False)\n",
    "# gdown.extractall('data.zip')"
   ]
  },
  {
   "cell_type": "code",
   "execution_count": 381,
   "id": "8548cc59-6dfc-4acc-abc3-3e65212db02e",
   "metadata": {
    "tags": []
   },
   "outputs": [],
   "source": [
    "from requests.api import request\n",
    "def load_video(path:str) -> List[float]: \n",
    "\n",
    "    cap = cv2.VideoCapture(path)\n",
    "    frames = []\n",
    "    # error_handler_x = []\n",
    "    # error_handler_x = set(error_handler)\n",
    "\n",
    "    # error_handler_y = []\n",
    "    # error_handler_y = set(error_handler)\n",
    "    for _ in range(int(cap.get(cv2.CAP_PROP_FRAME_COUNT))): \n",
    "        ret, frame = cap.read()\n",
    "        \n",
    "        request_ans = get_lips(frame)\n",
    "        if (request_ans != None):\n",
    "          x1, y1, x2, y2 = request_ans[0], request_ans[1], request_ans[2], request_ans[3]\n",
    "          #print(\"Coords: \", x1, y1, x2, y2, y2-y1, x2-x1)\n",
    "          if (y2-y1 != 43 and x2-x1 != 72):\n",
    "            continue\n",
    "          frame = tf.image.rgb_to_grayscale(frame)\n",
    "          frame = frame[y1:y2,x1:x2,:]\n",
    "          frame = tf.image.resize(frame, size=(46, 140), method=tf.image.ResizeMethod.BILINEAR)\n",
    "          frames.append(frame)\n",
    "        #frames.append(frame[190:236,80:220,:])\n",
    "        \n",
    "    cap.release()\n",
    "    \n",
    "    mean = tf.math.reduce_mean(frames)\n",
    "    std = tf.math.reduce_std(tf.cast(frames, tf.float32))\n",
    "    return tf.cast((frames - mean), tf.float32) / std"
   ]
  },
  {
   "cell_type": "code",
   "execution_count": 382,
   "id": "ec735e0b-ec98-4eb0-8f49-c35527d6670a",
   "metadata": {
    "tags": []
   },
   "outputs": [],
   "source": [
    "vocab = [x for x in \"abcdefghijklmnopqrstuvwxyz'?!123456789 \"]"
   ]
  },
  {
   "cell_type": "code",
   "execution_count": 383,
   "id": "be04e972-d7a5-4a72-82d8-a6bdde1f3ce6",
   "metadata": {
    "tags": []
   },
   "outputs": [
    {
     "name": "stdout",
     "output_type": "stream",
     "text": [
      "The vocabulary is: ['', 'a', 'b', 'c', 'd', 'e', 'f', 'g', 'h', 'i', 'j', 'k', 'l', 'm', 'n', 'o', 'p', 'q', 'r', 's', 't', 'u', 'v', 'w', 'x', 'y', 'z', \"'\", '?', '!', '1', '2', '3', '4', '5', '6', '7', '8', '9', ' '] (size =40)\n"
     ]
    }
   ],
   "source": [
    "char_to_num = tf.keras.layers.StringLookup(vocabulary=vocab, oov_token=\"\")\n",
    "num_to_char = tf.keras.layers.StringLookup(\n",
    "    vocabulary=char_to_num.get_vocabulary(), oov_token=\"\", invert=True\n",
    ")\n",
    "\n",
    "print(\n",
    "    f\"The vocabulary is: {char_to_num.get_vocabulary()} \"\n",
    "    f\"(size ={char_to_num.vocabulary_size()})\"\n",
    ")"
   ]
  },
  {
   "cell_type": "code",
   "execution_count": 384,
   "id": "559f7420-6802-45fa-9ca0-b1ff209b461c",
   "metadata": {
    "tags": []
   },
   "outputs": [
    {
     "data": {
      "text/plain": [
       "['',\n",
       " 'a',\n",
       " 'b',\n",
       " 'c',\n",
       " 'd',\n",
       " 'e',\n",
       " 'f',\n",
       " 'g',\n",
       " 'h',\n",
       " 'i',\n",
       " 'j',\n",
       " 'k',\n",
       " 'l',\n",
       " 'm',\n",
       " 'n',\n",
       " 'o',\n",
       " 'p',\n",
       " 'q',\n",
       " 'r',\n",
       " 's',\n",
       " 't',\n",
       " 'u',\n",
       " 'v',\n",
       " 'w',\n",
       " 'x',\n",
       " 'y',\n",
       " 'z',\n",
       " \"'\",\n",
       " '?',\n",
       " '!',\n",
       " '1',\n",
       " '2',\n",
       " '3',\n",
       " '4',\n",
       " '5',\n",
       " '6',\n",
       " '7',\n",
       " '8',\n",
       " '9',\n",
       " ' ']"
      ]
     },
     "execution_count": 384,
     "metadata": {},
     "output_type": "execute_result"
    }
   ],
   "source": [
    "char_to_num.get_vocabulary()"
   ]
  },
  {
   "cell_type": "code",
   "execution_count": 385,
   "id": "797ff78b-b48f-4e14-bb62-8cd0ebf9501a",
   "metadata": {
    "tags": []
   },
   "outputs": [
    {
     "data": {
      "text/plain": [
       "<tf.Tensor: shape=(4,), dtype=int64, numpy=array([14,  9,  3, 11], dtype=int64)>"
      ]
     },
     "execution_count": 385,
     "metadata": {},
     "output_type": "execute_result"
    }
   ],
   "source": [
    "char_to_num(['n','i','c','k'])"
   ]
  },
  {
   "cell_type": "code",
   "execution_count": 386,
   "id": "8cd7f4f4-ae77-4509-a4f4-c723787ebad1",
   "metadata": {},
   "outputs": [
    {
     "data": {
      "text/plain": [
       "<tf.Tensor: shape=(4,), dtype=string, numpy=array([b'n', b'i', b'c', b'k'], dtype=object)>"
      ]
     },
     "execution_count": 386,
     "metadata": {},
     "output_type": "execute_result"
    }
   ],
   "source": [
    "num_to_char([14,  9,  3, 11])"
   ]
  },
  {
   "cell_type": "code",
   "execution_count": 387,
   "id": "9491bab5-6a3c-4f79-879a-8f9fbe73ae2e",
   "metadata": {
    "tags": []
   },
   "outputs": [],
   "source": [
    "def load_alignments(path:str) -> List[str]: \n",
    "    with open(path, 'r') as f: \n",
    "        lines = f.readlines() \n",
    "    tokens = []\n",
    "    for line in lines:\n",
    "        line = line.split()\n",
    "        if line[2] != 'sil': \n",
    "            tokens = [*tokens,' ',line[2]]\n",
    "    return char_to_num(tf.reshape(tf.strings.unicode_split(tokens, input_encoding='UTF-8'), (-1)))[1:]"
   ]
  },
  {
   "cell_type": "code",
   "execution_count": 388,
   "id": "dd01ca9f-77fb-4643-a2aa-47dd82c5d66b",
   "metadata": {
    "tags": []
   },
   "outputs": [],
   "source": [
    "def load_data(path: str): \n",
    "    path = bytes.decode(path.numpy())\n",
    "    #file_name = path.split('/')[-1].split('.')[0]\n",
    "    # File name splitting for windows\n",
    "    file_name = path.split('\\\\')[-1].split('.')[0]\n",
    "    video_path = os.path.join('data','s1',f'{file_name}.mpg')\n",
    "    alignment_path = os.path.join('data','alignments','s1',f'{file_name}.align')\n",
    "    frames = load_video(video_path) \n",
    "    alignments = load_alignments(alignment_path)\n",
    "    \n",
    "    return frames, alignments"
   ]
  },
  {
   "cell_type": "code",
   "execution_count": 389,
   "id": "6871031a-b0ba-4c76-a852-f6329b0f2606",
   "metadata": {
    "tags": []
   },
   "outputs": [],
   "source": [
    "def mappable_function(path:str) ->List[str]:\n",
    "    result = tf.py_function(load_data, [path], (tf.float32, tf.int64))\n",
    "    return result"
   ]
  },
  {
   "cell_type": "markdown",
   "id": "c40a7eb4-0c3e-4eab-9291-5611cb68ce08",
   "metadata": {
    "tags": []
   },
   "source": [
    "# 2. Create Data Pipeline"
   ]
  },
  {
   "cell_type": "code",
   "execution_count": 390,
   "id": "7686355d-45aa-4c85-ad9c-053e6a9b4d81",
   "metadata": {
    "tags": []
   },
   "outputs": [],
   "source": [
    "from matplotlib import pyplot as plt"
   ]
  },
  {
   "cell_type": "code",
   "execution_count": 391,
   "id": "f066fea2-91b1-42ed-a67d-00566a1a53ff",
   "metadata": {
    "tags": []
   },
   "outputs": [],
   "source": [
    "# data = tf.data.Dataset.list_files('./data/s1/*.mpg')\n",
    "# data = data.shuffle(500, reshuffle_each_iteration=False)\n",
    "# data = data.map(mappable_function)\n",
    "# data = data.padded_batch(2, padded_shapes=([75,None,None,None],[40]))\n",
    "# data = data.prefetch(tf.data.AUTOTUNE)\n",
    "# Added for split \n",
    "#train = data.take(450)\n",
    "test = tf.data.Dataset.list_files('.\\\\data\\\\s1\\\\*.mpg')\n",
    "#test = test.shuffle(500, reshuffle_each_iteration=False)\n",
    "test = test.map(mappable_function)\n",
    "test = test.padded_batch(2, padded_shapes=([75,None,None,None],[40]))\n",
    "test = test.prefetch(tf.data.AUTOTUNE)"
   ]
  },
  {
   "cell_type": "markdown",
   "id": "312b5be9",
   "metadata": {},
   "source": []
  },
  {
   "cell_type": "code",
   "execution_count": 392,
   "id": "6b1365bd-7742-41d1-95d4-247021751c3a",
   "metadata": {},
   "outputs": [
    {
     "data": {
      "text/plain": [
       "500"
      ]
     },
     "execution_count": 392,
     "metadata": {},
     "output_type": "execute_result"
    }
   ],
   "source": [
    "len(test)"
   ]
  },
  {
   "cell_type": "code",
   "execution_count": 393,
   "id": "5281bde8-fdc8-4da1-bd55-5a7929a9e80c",
   "metadata": {},
   "outputs": [],
   "source": [
    "frames, alignments = test.as_numpy_iterator().next()"
   ]
  },
  {
   "cell_type": "code",
   "execution_count": 394,
   "id": "cbebe683-6afd-47fd-bba4-c83b4b13bb32",
   "metadata": {},
   "outputs": [
    {
     "data": {
      "text/plain": [
       "2"
      ]
     },
     "execution_count": 394,
     "metadata": {},
     "output_type": "execute_result"
    }
   ],
   "source": [
    "len(frames)"
   ]
  },
  {
   "cell_type": "code",
   "execution_count": 395,
   "id": "5cf2d676-93a9-434c-b3c7-bdcc2577b2e7",
   "metadata": {
    "tags": []
   },
   "outputs": [],
   "source": [
    "sample = test.as_numpy_iterator()"
   ]
  },
  {
   "cell_type": "code",
   "execution_count": 396,
   "id": "efa6cd46-7079-46c0-b45b-832f339f6cb0",
   "metadata": {
    "scrolled": true,
    "tags": []
   },
   "outputs": [
    {
     "data": {
      "text/plain": [
       "array([[[[[1.9620526 ],\n",
       "          [1.9967917 ],\n",
       "          [2.0626132 ],\n",
       "          ...,\n",
       "          [1.1545213 ],\n",
       "          [1.2642244 ],\n",
       "          [1.3221217 ]],\n",
       "\n",
       "         [[2.0005412 ],\n",
       "          [2.0248337 ],\n",
       "          [2.0708606 ],\n",
       "          ...,\n",
       "          [1.1077849 ],\n",
       "          [1.1976938 ],\n",
       "          [1.2451444 ]],\n",
       "\n",
       "         [[2.0047147 ],\n",
       "          [2.0278742 ],\n",
       "          [2.071755  ],\n",
       "          ...,\n",
       "          [1.0160018 ],\n",
       "          [1.0670373 ],\n",
       "          [1.0939726 ]],\n",
       "\n",
       "         ...,\n",
       "\n",
       "         [[1.5502709 ],\n",
       "          [1.7374343 ],\n",
       "          [2.0920594 ],\n",
       "          ...,\n",
       "          [1.0188837 ],\n",
       "          [1.1102234 ],\n",
       "          [1.1584291 ]],\n",
       "\n",
       "         [[1.3740575 ],\n",
       "          [1.5777093 ],\n",
       "          [1.9635758 ],\n",
       "          ...,\n",
       "          [1.0265353 ],\n",
       "          [1.1362382 ],\n",
       "          [1.1941355 ]],\n",
       "\n",
       "         [[1.0661495 ],\n",
       "          [1.3324826 ],\n",
       "          [1.8371136 ],\n",
       "          ...,\n",
       "          [1.0265353 ],\n",
       "          [1.1362382 ],\n",
       "          [1.1941355 ]]],\n",
       "\n",
       "\n",
       "        [[[1.9620526 ],\n",
       "          [1.9852122 ],\n",
       "          [2.0290928 ],\n",
       "          ...,\n",
       "          [1.1179538 ],\n",
       "          [1.139894  ],\n",
       "          [1.1514735 ]],\n",
       "\n",
       "         [[1.9620526 ],\n",
       "          [1.9852122 ],\n",
       "          [2.0290928 ],\n",
       "          ...,\n",
       "          [1.134448  ],\n",
       "          [1.1959778 ],\n",
       "          [1.2284509 ]],\n",
       "\n",
       "         [[2.0334654 ],\n",
       "          [2.037241  ],\n",
       "          [2.044396  ],\n",
       "          ...,\n",
       "          [1.1209345 ],\n",
       "          [1.1500297 ],\n",
       "          [1.1653848 ]],\n",
       "\n",
       "         ...,\n",
       "\n",
       "         [[2.013525  ],\n",
       "          [2.0709205 ],\n",
       "          [2.1796691 ],\n",
       "          ...,\n",
       "          [1.2174208 ],\n",
       "          [1.2209979 ],\n",
       "          [1.2228864 ]],\n",
       "\n",
       "         [[1.6124094 ],\n",
       "          [1.7883703 ],\n",
       "          [2.1217704 ],\n",
       "          ...,\n",
       "          [1.1179538 ],\n",
       "          [1.139894  ],\n",
       "          [1.1514735 ]],\n",
       "\n",
       "         [[1.5354321 ],\n",
       "          [1.732287  ],\n",
       "          [2.1052754 ],\n",
       "          ...,\n",
       "          [1.1179538 ],\n",
       "          [1.139894  ],\n",
       "          [1.1514735 ]]],\n",
       "\n",
       "\n",
       "        [[[1.9620526 ],\n",
       "          [1.9852122 ],\n",
       "          [2.0290928 ],\n",
       "          ...,\n",
       "          [1.1179538 ],\n",
       "          [1.139894  ],\n",
       "          [1.1514735 ]],\n",
       "\n",
       "         [[1.9620526 ],\n",
       "          [1.964318  ],\n",
       "          [1.9686111 ],\n",
       "          ...,\n",
       "          [1.09596   ],\n",
       "          [1.1574892 ],\n",
       "          [1.1899623 ]],\n",
       "\n",
       "         [[2.0334654 ],\n",
       "          [2.0043898 ],\n",
       "          [1.9493    ],\n",
       "          ...,\n",
       "          [1.085924  ],\n",
       "          [1.1333824 ],\n",
       "          [1.1584291 ]],\n",
       "\n",
       "         ...,\n",
       "\n",
       "         [[1.9490683 ],\n",
       "          [2.0336504 ],\n",
       "          [2.193911  ],\n",
       "          ...,\n",
       "          [1.0862886 ],\n",
       "          [1.2036228 ],\n",
       "          [1.2655485 ]],\n",
       "\n",
       "         [[1.6508974 ],\n",
       "          [1.8164121 ],\n",
       "          [2.1300182 ],\n",
       "          ...,\n",
       "          [1.1279898 ],\n",
       "          [1.1740173 ],\n",
       "          [1.198309  ]],\n",
       "\n",
       "         [[1.5354321 ],\n",
       "          [1.732287  ],\n",
       "          [2.1052754 ],\n",
       "          ...,\n",
       "          [1.1362369 ],\n",
       "          [1.2020593 ],\n",
       "          [1.2367977 ]]],\n",
       "\n",
       "\n",
       "        ...,\n",
       "\n",
       "\n",
       "        [[[2.132701  ],\n",
       "          [2.132701  ],\n",
       "          [2.132701  ],\n",
       "          ...,\n",
       "          [0.9716831 ],\n",
       "          [0.94974273],\n",
       "          [0.9381633 ]],\n",
       "\n",
       "         [[2.132701  ],\n",
       "          [2.132701  ],\n",
       "          [2.132701  ],\n",
       "          ...,\n",
       "          [0.91670007],\n",
       "          [0.85517025],\n",
       "          [0.8226972 ]],\n",
       "\n",
       "         [[2.1684072 ],\n",
       "          [2.1684072 ],\n",
       "          [2.1684072 ],\n",
       "          ...,\n",
       "          [0.93879277],\n",
       "          [0.85460716],\n",
       "          [0.8101771 ]],\n",
       "\n",
       "         ...,\n",
       "\n",
       "         [[2.2537313 ],\n",
       "          [2.2440398 ],\n",
       "          [2.2256758 ],\n",
       "          ...,\n",
       "          [1.2510409 ],\n",
       "          [1.1995276 ],\n",
       "          [1.1723411 ]],\n",
       "\n",
       "         [[2.2096782 ],\n",
       "          [2.2119436 ],\n",
       "          [2.216236  ],\n",
       "          ...,\n",
       "          [1.2519021 ],\n",
       "          [1.278135  ],\n",
       "          [1.2919805 ]],\n",
       "\n",
       "         [[2.132701  ],\n",
       "          [2.1558604 ],\n",
       "          [2.1997411 ],\n",
       "          ...,\n",
       "          [1.3068851 ],\n",
       "          [1.3727075 ],\n",
       "          [1.4074459 ]]],\n",
       "\n",
       "\n",
       "        [[[2.218025  ],\n",
       "          [2.2064455 ],\n",
       "          [2.1845045 ],\n",
       "          ...,\n",
       "          [1.1362369 ],\n",
       "          [1.2020593 ],\n",
       "          [1.2367977 ]],\n",
       "\n",
       "         [[2.218025  ],\n",
       "          [2.2064455 ],\n",
       "          [2.1845045 ],\n",
       "          ...,\n",
       "          [1.1114942 ],\n",
       "          [1.1179335 ],\n",
       "          [1.1213316 ]],\n",
       "\n",
       "         [[2.1823184 ],\n",
       "          [2.170739  ],\n",
       "          [2.148798  ],\n",
       "          ...,\n",
       "          [1.0220963 ],\n",
       "          [0.9853691 ],\n",
       "          [0.96598643]],\n",
       "\n",
       "         ...,\n",
       "\n",
       "         [[2.3321    ],\n",
       "          [2.2992487 ],\n",
       "          [2.237004  ],\n",
       "          ...,\n",
       "          [1.2459399 ],\n",
       "          [1.2678802 ],\n",
       "          [1.2794597 ]],\n",
       "\n",
       "         [[2.2565136 ],\n",
       "          [2.2344868 ],\n",
       "          [2.1927524 ],\n",
       "          ...,\n",
       "          [1.2450454 ],\n",
       "          [1.2648395 ],\n",
       "          [1.2752863 ]],\n",
       "\n",
       "         [[2.218025  ],\n",
       "          [2.2064455 ],\n",
       "          [2.1845045 ],\n",
       "          ...,\n",
       "          [1.2367977 ],\n",
       "          [1.2367977 ],\n",
       "          [1.2367977 ]]],\n",
       "\n",
       "\n",
       "        [[[2.260687  ],\n",
       "          [2.2375274 ],\n",
       "          [2.1936467 ],\n",
       "          ...,\n",
       "          [1.060055  ],\n",
       "          [1.1478177 ],\n",
       "          [1.1941355 ]],\n",
       "\n",
       "         [[2.260687  ],\n",
       "          [2.2479749 ],\n",
       "          [2.2238877 ],\n",
       "          ...,\n",
       "          [0.9995733 ],\n",
       "          [1.1269242 ],\n",
       "          [1.1941355 ]],\n",
       "\n",
       "         [[2.260687  ],\n",
       "          [2.2491076 ],\n",
       "          [2.2271664 ],\n",
       "          ...,\n",
       "          [1.0057666 ],\n",
       "          [1.0823208 ],\n",
       "          [1.1227227 ]],\n",
       "\n",
       "         ...,\n",
       "\n",
       "         [[2.3817174 ],\n",
       "          [2.335399  ],\n",
       "          [2.247637  ],\n",
       "          ...,\n",
       "          [1.2328228 ],\n",
       "          [1.2399776 ],\n",
       "          [1.2437533 ]],\n",
       "\n",
       "         [[2.3418376 ],\n",
       "          [2.2966518 ],\n",
       "          [2.2110362 ],\n",
       "          ...,\n",
       "          [1.211525  ],\n",
       "          [1.25326   ],\n",
       "          [1.2752863 ]],\n",
       "\n",
       "         [[2.303349  ],\n",
       "          [2.26861   ],\n",
       "          [2.2027884 ],\n",
       "          ...,\n",
       "          [1.2032778 ],\n",
       "          [1.2252182 ],\n",
       "          [1.2367977 ]]]],\n",
       "\n",
       "\n",
       "\n",
       "       [[[[2.0907323 ],\n",
       "          [2.0777776 ],\n",
       "          [2.0532312 ],\n",
       "          ...,\n",
       "          [1.0509373 ],\n",
       "          [1.0754831 ],\n",
       "          [1.0884377 ]],\n",
       "\n",
       "         [[2.047673  ],\n",
       "          [2.0230303 ],\n",
       "          [1.9763398 ],\n",
       "          ...,\n",
       "          [1.04171   ],\n",
       "          [1.0441111 ],\n",
       "          [1.0453783 ]],\n",
       "\n",
       "         [[2.043004  ],\n",
       "          [2.0062516 ],\n",
       "          [1.936616  ],\n",
       "          ...,\n",
       "          [1.0007627 ],\n",
       "          [1.0007627 ],\n",
       "          [1.0007627 ]],\n",
       "\n",
       "         ...,\n",
       "\n",
       "         [[1.8520907 ],\n",
       "          [1.8391361 ],\n",
       "          [1.8145896 ],\n",
       "          ...,\n",
       "          [1.7003456 ],\n",
       "          [1.6798017 ],\n",
       "          [1.6689591 ]],\n",
       "\n",
       "         [[1.8520907 ],\n",
       "          [1.8391361 ],\n",
       "          [1.8145896 ],\n",
       "          ...,\n",
       "          [1.6979    ],\n",
       "          [1.7051042 ],\n",
       "          [1.7089058 ]],\n",
       "\n",
       "         [[1.8520907 ],\n",
       "          [1.8391361 ],\n",
       "          [1.8145896 ],\n",
       "          ...,\n",
       "          [1.5964031 ],\n",
       "          [1.670042  ],\n",
       "          [1.7089058 ]]],\n",
       "\n",
       "\n",
       "        [[[2.1384606 ],\n",
       "          [2.125506  ],\n",
       "          [2.1009595 ],\n",
       "          ...,\n",
       "          [1.0611645 ],\n",
       "          [1.1102568 ],\n",
       "          [1.136166  ]],\n",
       "\n",
       "         [[2.1384606 ],\n",
       "          [2.125506  ],\n",
       "          [2.1009595 ],\n",
       "          ...,\n",
       "          [1.0519379 ],\n",
       "          [1.0788848 ],\n",
       "          [1.0931066 ]],\n",
       "\n",
       "         [[2.1384606 ],\n",
       "          [2.125506  ],\n",
       "          [2.1009595 ],\n",
       "          ...,\n",
       "          [0.97960407],\n",
       "          [1.0246938 ],\n",
       "          [1.048491  ]],\n",
       "\n",
       "         ...,\n",
       "\n",
       "         [[2.0585673 ],\n",
       "          [1.9916809 ],\n",
       "          [1.8649492 ],\n",
       "          ...,\n",
       "          [1.6302352 ],\n",
       "          [1.7078767 ],\n",
       "          [1.7488525 ]],\n",
       "\n",
       "         [[2.1384606 ],\n",
       "          [2.0607316 ],\n",
       "          [1.913456  ],\n",
       "          ...,\n",
       "          [1.5512317 ],\n",
       "          [1.6422124 ],\n",
       "          [1.6902292 ]],\n",
       "\n",
       "         [[2.1384606 ],\n",
       "          [2.0607316 ],\n",
       "          [1.913456  ],\n",
       "          ...,\n",
       "          [1.4804921 ],\n",
       "          [1.5050379 ],\n",
       "          [1.5179925 ]]],\n",
       "\n",
       "\n",
       "        [[[2.0907323 ],\n",
       "          [2.0648224 ],\n",
       "          [2.0157309 ],\n",
       "          ...,\n",
       "          [1.0407094 ],\n",
       "          [1.0407094 ],\n",
       "          [1.0407094 ]],\n",
       "\n",
       "         [[2.047673  ],\n",
       "          [2.0100758 ],\n",
       "          [1.9388386 ],\n",
       "          ...,\n",
       "          [0.99765   ],\n",
       "          [0.99765   ],\n",
       "          [0.99765   ]],\n",
       "\n",
       "         [[2.043004  ],\n",
       "          [1.993297  ],\n",
       "          [1.8991148 ],\n",
       "          ...,\n",
       "          [0.9615945 ],\n",
       "          [0.98213845],\n",
       "          [0.9929811 ]],\n",
       "\n",
       "         ...,\n",
       "\n",
       "         [[1.8920374 ],\n",
       "          [1.8552849 ],\n",
       "          [1.7856486 ],\n",
       "          ...,\n",
       "          [1.5295539 ],\n",
       "          [1.5946553 ],\n",
       "          [1.6290125 ]],\n",
       "\n",
       "         [[1.8520907 ],\n",
       "          [1.8236464 ],\n",
       "          [1.7697518 ],\n",
       "          ...,\n",
       "          [1.4812328 ],\n",
       "          [1.633313  ],\n",
       "          [1.7135748 ]],\n",
       "\n",
       "         [[1.8520907 ],\n",
       "          [1.8002716 ],\n",
       "          [1.7020876 ],\n",
       "          ...,\n",
       "          [1.456628  ],\n",
       "          [1.6529975 ],\n",
       "          [1.7566341 ]]],\n",
       "\n",
       "\n",
       "        ...,\n",
       "\n",
       "\n",
       "        [[[2.0907323 ],\n",
       "          [2.0389132 ],\n",
       "          [1.9407293 ],\n",
       "          ...,\n",
       "          [0.7645674 ],\n",
       "          [0.7891132 ],\n",
       "          [0.8020678 ]],\n",
       "\n",
       "         [[2.047673  ],\n",
       "          [1.9958539 ],\n",
       "          [1.8976699 ],\n",
       "          ...,\n",
       "          [0.7215081 ],\n",
       "          [0.7460539 ],\n",
       "          [0.75900847]],\n",
       "\n",
       "         [[2.043004  ],\n",
       "          [1.991185  ],\n",
       "          [1.893001  ],\n",
       "          ...,\n",
       "          [0.6854526 ],\n",
       "          [0.7305423 ],\n",
       "          [0.75433946]],\n",
       "\n",
       "         ...,\n",
       "\n",
       "         [[2.0907323 ],\n",
       "          [2.0627105 ],\n",
       "          [2.0096161 ],\n",
       "          ...,\n",
       "          [1.5219208 ],\n",
       "          [1.68574   ],\n",
       "          [1.7721974 ]],\n",
       "\n",
       "         [[2.0813944 ],\n",
       "          [2.0450642 ],\n",
       "          [1.9762284 ],\n",
       "          ...,\n",
       "          [1.6772608 ],\n",
       "          [1.7855831 ],\n",
       "          [1.8427528 ]],\n",
       "\n",
       "         [[1.9952756 ],\n",
       "          [1.9823211 ],\n",
       "          [1.9577745 ],\n",
       "          ...,\n",
       "          [1.7941345 ],\n",
       "          [1.7695887 ],\n",
       "          [1.7566341 ]]],\n",
       "\n",
       "\n",
       "        [[[2.1384606 ],\n",
       "          [2.0866416 ],\n",
       "          [1.9884576 ],\n",
       "          ...,\n",
       "          [0.75433946],\n",
       "          [0.75433946],\n",
       "          [0.75433946]],\n",
       "\n",
       "         [[2.0954013 ],\n",
       "          [2.0435822 ],\n",
       "          [1.9453982 ],\n",
       "          ...,\n",
       "          [0.7205074 ],\n",
       "          [0.7426521 ],\n",
       "          [0.75433946]],\n",
       "\n",
       "         [[2.0907323 ],\n",
       "          [2.0389132 ],\n",
       "          [1.9407293 ],\n",
       "          ...,\n",
       "          [0.6854526 ],\n",
       "          [0.7305423 ],\n",
       "          [0.75433946]],\n",
       "\n",
       "         ...,\n",
       "\n",
       "         [[2.0907323 ],\n",
       "          [2.0627105 ],\n",
       "          [2.0096161 ],\n",
       "          ...,\n",
       "          [1.6283089 ],\n",
       "          [1.7224917 ],\n",
       "          [1.7721974 ]],\n",
       "\n",
       "         [[2.0813944 ],\n",
       "          [2.0450642 ],\n",
       "          [1.9762284 ],\n",
       "          ...,\n",
       "          [1.7432563 ],\n",
       "          [1.8144941 ],\n",
       "          [1.8520907 ]],\n",
       "\n",
       "         [[1.9952756 ],\n",
       "          [1.9823211 ],\n",
       "          [1.9577745 ],\n",
       "          ...,\n",
       "          [1.7770892 ],\n",
       "          [1.8261815 ],\n",
       "          [1.8520907 ]]],\n",
       "\n",
       "\n",
       "        [[[2.1384606 ],\n",
       "          [2.0866416 ],\n",
       "          [1.9884576 ],\n",
       "          ...,\n",
       "          [0.8395682 ],\n",
       "          [0.81502235],\n",
       "          [0.8020678 ]],\n",
       "\n",
       "         [[2.0954013 ],\n",
       "          [2.0435822 ],\n",
       "          [1.9453982 ],\n",
       "          ...,\n",
       "          [0.8241906 ],\n",
       "          [0.8660789 ],\n",
       "          [0.88818645]],\n",
       "\n",
       "         [[2.0907323 ],\n",
       "          [2.0389132 ],\n",
       "          [1.9407293 ],\n",
       "          ...,\n",
       "          [0.7825762 ],\n",
       "          [0.83166856],\n",
       "          [0.85757774]],\n",
       "\n",
       "         ...,\n",
       "\n",
       "         [[2.0907323 ],\n",
       "          [2.0627105 ],\n",
       "          [2.0096161 ],\n",
       "          ...,\n",
       "          [1.5874738 ],\n",
       "          [1.698198  ],\n",
       "          [1.7566341 ]],\n",
       "\n",
       "         [[2.0813944 ],\n",
       "          [2.0450642 ],\n",
       "          [1.9762284 ],\n",
       "          ...,\n",
       "          [1.6879693 ],\n",
       "          [1.7298576 ],\n",
       "          [1.7519652 ]],\n",
       "\n",
       "         [[1.9952756 ],\n",
       "          [1.9823211 ],\n",
       "          [1.9577745 ],\n",
       "          ...,\n",
       "          [1.7464062 ],\n",
       "          [1.7218604 ],\n",
       "          [1.7089058 ]]]]], dtype=float32)"
      ]
     },
     "execution_count": 396,
     "metadata": {},
     "output_type": "execute_result"
    }
   ],
   "source": [
    "val = sample.next(); val[0]"
   ]
  },
  {
   "cell_type": "code",
   "execution_count": 397,
   "id": "acf5eb4f-a0da-4a9a-bf24-af13e9cc2fbe",
   "metadata": {
    "tags": []
   },
   "outputs": [
    {
     "name": "stderr",
     "output_type": "stream",
     "text": [
      "Lossy conversion from float32 to uint8. Range [-2.8489418029785156, 2.6126489639282227]. Convert image to uint8 prior to saving to suppress this warning.\n",
      "Lossy conversion from float32 to uint8. Range [-2.7822656631469727, 2.606621026992798]. Convert image to uint8 prior to saving to suppress this warning.\n",
      "Lossy conversion from float32 to uint8. Range [-2.8195688724517822, 2.6019835472106934]. Convert image to uint8 prior to saving to suppress this warning.\n",
      "Lossy conversion from float32 to uint8. Range [-2.756410837173462, 2.225179672241211]. Convert image to uint8 prior to saving to suppress this warning.\n",
      "Lossy conversion from float32 to uint8. Range [-2.8321220874786377, 2.197157382965088]. Convert image to uint8 prior to saving to suppress this warning.\n",
      "Lossy conversion from float32 to uint8. Range [-2.7727668285369873, 2.5769424438476562]. Convert image to uint8 prior to saving to suppress this warning.\n",
      "Lossy conversion from float32 to uint8. Range [-2.7870562076568604, 2.346011161804199]. Convert image to uint8 prior to saving to suppress this warning.\n",
      "Lossy conversion from float32 to uint8. Range [-2.7882742881774902, 2.606621026992798]. Convert image to uint8 prior to saving to suppress this warning.\n",
      "Lossy conversion from float32 to uint8. Range [-2.9826183319091797, 2.346011161804199]. Convert image to uint8 prior to saving to suppress this warning.\n",
      "Lossy conversion from float32 to uint8. Range [-3.7369887828826904, 2.303349018096924]. Convert image to uint8 prior to saving to suppress this warning.\n",
      "Lossy conversion from float32 to uint8. Range [-3.900904655456543, 2.303349018096924]. Convert image to uint8 prior to saving to suppress this warning.\n",
      "Lossy conversion from float32 to uint8. Range [-3.9289872646331787, 2.6478919982910156]. Convert image to uint8 prior to saving to suppress this warning.\n",
      "Lossy conversion from float32 to uint8. Range [-3.638627290725708, 2.5059938430786133]. Convert image to uint8 prior to saving to suppress this warning.\n",
      "Lossy conversion from float32 to uint8. Range [-3.6550028324127197, 2.559321403503418]. Convert image to uint8 prior to saving to suppress this warning.\n",
      "Lossy conversion from float32 to uint8. Range [-3.4548091888427734, 2.1800003051757812]. Convert image to uint8 prior to saving to suppress this warning.\n",
      "Lossy conversion from float32 to uint8. Range [-3.456028461456299, 2.3696608543395996]. Convert image to uint8 prior to saving to suppress this warning.\n",
      "Lossy conversion from float32 to uint8. Range [-3.7491791248321533, 2.290828227996826]. Convert image to uint8 prior to saving to suppress this warning.\n",
      "Lossy conversion from float32 to uint8. Range [-3.9241280555725098, 2.424379587173462]. Convert image to uint8 prior to saving to suppress this warning.\n",
      "Lossy conversion from float32 to uint8. Range [-2.666780710220337, 2.303349018096924]. Convert image to uint8 prior to saving to suppress this warning.\n",
      "Lossy conversion from float32 to uint8. Range [-3.840052843093872, 2.513970136642456]. Convert image to uint8 prior to saving to suppress this warning.\n",
      "Lossy conversion from float32 to uint8. Range [-3.812163829803467, 2.171189546585083]. Convert image to uint8 prior to saving to suppress this warning.\n",
      "Lossy conversion from float32 to uint8. Range [-4.095959186553955, 2.318187952041626]. Convert image to uint8 prior to saving to suppress this warning.\n",
      "Lossy conversion from float32 to uint8. Range [-3.1299686431884766, 2.3427653312683105]. Convert image to uint8 prior to saving to suppress this warning.\n",
      "Lossy conversion from float32 to uint8. Range [-2.4991793632507324, 2.375265121459961]. Convert image to uint8 prior to saving to suppress this warning.\n",
      "Lossy conversion from float32 to uint8. Range [-3.2116360664367676, 2.1753628253936768]. Convert image to uint8 prior to saving to suppress this warning.\n",
      "Lossy conversion from float32 to uint8. Range [-4.562194347381592, 2.1327009201049805]. Convert image to uint8 prior to saving to suppress this warning.\n",
      "Lossy conversion from float32 to uint8. Range [-4.119078636169434, 2.1662213802337646]. Convert image to uint8 prior to saving to suppress this warning.\n",
      "Lossy conversion from float32 to uint8. Range [-3.5754294395446777, 2.2027218341827393]. Convert image to uint8 prior to saving to suppress this warning.\n",
      "Lossy conversion from float32 to uint8. Range [-3.0879952907562256, 2.2546589374542236]. Convert image to uint8 prior to saving to suppress this warning.\n",
      "Lossy conversion from float32 to uint8. Range [-2.831943988800049, 2.4308717250823975]. Convert image to uint8 prior to saving to suppress this warning.\n",
      "Lossy conversion from float32 to uint8. Range [-2.554640293121338, 2.346011161804199]. Convert image to uint8 prior to saving to suppress this warning.\n",
      "Lossy conversion from float32 to uint8. Range [-2.683845281600952, 2.085500955581665]. Convert image to uint8 prior to saving to suppress this warning.\n",
      "Lossy conversion from float32 to uint8. Range [-4.209987640380859, 2.346011161804199]. Convert image to uint8 prior to saving to suppress this warning.\n",
      "Lossy conversion from float32 to uint8. Range [-3.9214751720428467, 2.090038776397705]. Convert image to uint8 prior to saving to suppress this warning.\n",
      "Lossy conversion from float32 to uint8. Range [-3.872328996658325, 2.128063917160034]. Convert image to uint8 prior to saving to suppress this warning.\n",
      "Lossy conversion from float32 to uint8. Range [-3.7776308059692383, 1.962052583694458]. Convert image to uint8 prior to saving to suppress this warning.\n",
      "Lossy conversion from float32 to uint8. Range [-4.00454044342041, 2.090038776397705]. Convert image to uint8 prior to saving to suppress this warning.\n",
      "Lossy conversion from float32 to uint8. Range [-4.596933364868164, 2.243218183517456]. Convert image to uint8 prior to saving to suppress this warning.\n",
      "Lossy conversion from float32 to uint8. Range [-2.8977646827697754, 2.2606871128082275]. Convert image to uint8 prior to saving to suppress this warning.\n",
      "Lossy conversion from float32 to uint8. Range [-3.409709930419922, 2.418536424636841]. Convert image to uint8 prior to saving to suppress this warning.\n",
      "Lossy conversion from float32 to uint8. Range [-2.4831480979919434, 2.451275110244751]. Convert image to uint8 prior to saving to suppress this warning.\n",
      "Lossy conversion from float32 to uint8. Range [-2.450826644897461, 2.3826451301574707]. Convert image to uint8 prior to saving to suppress this warning.\n",
      "Lossy conversion from float32 to uint8. Range [-2.373478889465332, 2.2606871128082275]. Convert image to uint8 prior to saving to suppress this warning.\n",
      "Lossy conversion from float32 to uint8. Range [-4.500639915466309, 2.245384693145752]. Convert image to uint8 prior to saving to suppress this warning.\n",
      "Lossy conversion from float32 to uint8. Range [-4.437090873718262, 2.2398195266723633]. Convert image to uint8 prior to saving to suppress this warning.\n",
      "Lossy conversion from float32 to uint8. Range [-3.976101875305176, 2.2606871128082275]. Convert image to uint8 prior to saving to suppress this warning.\n",
      "Lossy conversion from float32 to uint8. Range [-2.4315426349639893, 2.4234519004821777]. Convert image to uint8 prior to saving to suppress this warning.\n",
      "Lossy conversion from float32 to uint8. Range [-2.4510326385498047, 2.419278621673584]. Convert image to uint8 prior to saving to suppress this warning.\n",
      "Lossy conversion from float32 to uint8. Range [-2.93677020072937, 2.4299440383911133]. Convert image to uint8 prior to saving to suppress this warning.\n",
      "Lossy conversion from float32 to uint8. Range [-3.8209614753723145, 2.346011161804199]. Convert image to uint8 prior to saving to suppress this warning.\n",
      "Lossy conversion from float32 to uint8. Range [-2.803299903869629, 2.7299695014953613]. Convert image to uint8 prior to saving to suppress this warning.\n",
      "Lossy conversion from float32 to uint8. Range [-2.4232754707336426, 2.425307273864746]. Convert image to uint8 prior to saving to suppress this warning.\n",
      "Lossy conversion from float32 to uint8. Range [-2.730773448944092, 2.50692081451416]. Convert image to uint8 prior to saving to suppress this warning.\n",
      "Lossy conversion from float32 to uint8. Range [-2.7502760887145996, 2.3409101963043213]. Convert image to uint8 prior to saving to suppress this warning.\n",
      "Lossy conversion from float32 to uint8. Range [-3.3359649181365967, 2.338127851486206]. Convert image to uint8 prior to saving to suppress this warning.\n",
      "Lossy conversion from float32 to uint8. Range [-3.234795570373535, 2.4707515239715576]. Convert image to uint8 prior to saving to suppress this warning.\n",
      "Lossy conversion from float32 to uint8. Range [-3.276350259780884, 2.303349018096924]. Convert image to uint8 prior to saving to suppress this warning.\n",
      "Lossy conversion from float32 to uint8. Range [-3.2853803634643555, 2.287119150161743]. Convert image to uint8 prior to saving to suppress this warning.\n",
      "Lossy conversion from float32 to uint8. Range [-3.16481351852417, 2.5166592597961426]. Convert image to uint8 prior to saving to suppress this warning.\n",
      "Lossy conversion from float32 to uint8. Range [-3.220029354095459, 2.3886730670928955]. Convert image to uint8 prior to saving to suppress this warning.\n",
      "Lossy conversion from float32 to uint8. Range [-3.1054844856262207, 2.6019835472106934]. Convert image to uint8 prior to saving to suppress this warning.\n",
      "Lossy conversion from float32 to uint8. Range [-3.0977401733398438, 2.346011161804199]. Convert image to uint8 prior to saving to suppress this warning.\n",
      "Lossy conversion from float32 to uint8. Range [-3.115659475326538, 2.6738598346710205]. Convert image to uint8 prior to saving to suppress this warning.\n",
      "Lossy conversion from float32 to uint8. Range [-3.122814178466797, 2.3886730670928955]. Convert image to uint8 prior to saving to suppress this warning.\n",
      "Lossy conversion from float32 to uint8. Range [-3.225123405456543, 2.687307596206665]. Convert image to uint8 prior to saving to suppress this warning.\n",
      "Lossy conversion from float32 to uint8. Range [-3.293959140777588, 2.3886730670928955]. Convert image to uint8 prior to saving to suppress this warning.\n",
      "Lossy conversion from float32 to uint8. Range [-3.364609956741333, 2.3886730670928955]. Convert image to uint8 prior to saving to suppress this warning.\n",
      "Lossy conversion from float32 to uint8. Range [-2.986745834350586, 2.687307596206665]. Convert image to uint8 prior to saving to suppress this warning.\n",
      "Lossy conversion from float32 to uint8. Range [-3.24271821975708, 2.2606871128082275]. Convert image to uint8 prior to saving to suppress this warning.\n",
      "Lossy conversion from float32 to uint8. Range [-3.2077407836914062, 2.5801889896392822]. Convert image to uint8 prior to saving to suppress this warning.\n",
      "Lossy conversion from float32 to uint8. Range [-3.306844472885132, 2.687307596206665]. Convert image to uint8 prior to saving to suppress this warning.\n",
      "Lossy conversion from float32 to uint8. Range [-3.280194044113159, 3.2298576831817627]. Convert image to uint8 prior to saving to suppress this warning.\n",
      "Lossy conversion from float32 to uint8. Range [-3.1092469692230225, 2.431335210800171]. Convert image to uint8 prior to saving to suppress this warning.\n",
      "Lossy conversion from float32 to uint8. Range [-3.1621968746185303, 2.431335210800171]. Convert image to uint8 prior to saving to suppress this warning.\n",
      "Lossy conversion from float32 to uint8. Range [-3.3121769428253174, 2.3886730670928955]. Convert image to uint8 prior to saving to suppress this warning.\n"
     ]
    }
   ],
   "source": [
    "imageio.mimsave('./animation.gif', val[0][0], fps=10)"
   ]
  },
  {
   "cell_type": "code",
   "execution_count": 398,
   "id": "c33a87a2-d5e0-4ec9-b174-73ebf41bf03a",
   "metadata": {
    "tags": []
   },
   "outputs": [
    {
     "data": {
      "text/plain": [
       "<matplotlib.image.AxesImage at 0x29c6ff30970>"
      ]
     },
     "execution_count": 398,
     "metadata": {},
     "output_type": "execute_result"
    },
    {
     "data": {
      "image/png": "[encoded data removed]",
      "text/plain": [
       "<Figure size 640x480 with 1 Axes>"
      ]
     },
     "metadata": {},
     "output_type": "display_data"
    }
   ],
   "source": [
    "# 0:videos, 0: 1st video out of the batch,  0: return the first frame in the video \n",
    "plt.imshow(val[0][0][35])"
   ]
  },
  {
   "cell_type": "code",
   "execution_count": 399,
   "id": "84593332-133c-4205-b7a6-8e235d5e2b3b",
   "metadata": {
    "tags": []
   },
   "outputs": [
    {
     "data": {
      "text/plain": [
       "<tf.Tensor: shape=(), dtype=string, numpy=b'set white by o nine soon'>"
      ]
     },
     "execution_count": 399,
     "metadata": {},
     "output_type": "execute_result"
    }
   ],
   "source": [
    "tf.strings.reduce_join([num_to_char(word) for word in val[1][0]])"
   ]
  },
  {
   "cell_type": "markdown",
   "id": "0f47733c-83bc-465c-b118-b198b492ad37",
   "metadata": {
    "tags": []
   },
   "source": [
    "# 3. Design the Deep Neural Network"
   ]
  },
  {
   "cell_type": "code",
   "execution_count": 400,
   "id": "d8e9a497-191b-4842-afbd-26f5e13c43ba",
   "metadata": {
    "tags": []
   },
   "outputs": [],
   "source": [
    "from tensorflow import keras\n",
    "from keras.models import Sequential \n",
    "from keras.layers import Conv3D, LSTM, Dense, Dropout, Bidirectional, MaxPool3D, Activation, Reshape, SpatialDropout3D, BatchNormalization, TimeDistributed, Flatten\n",
    "from keras.optimizers import Adam\n",
    "from keras.callbacks import ModelCheckpoint, LearningRateScheduler"
   ]
  },
  {
   "cell_type": "code",
   "execution_count": 401,
   "id": "3f753ed2-70b9-4236-8c1c-08ca065dc8bf",
   "metadata": {},
   "outputs": [
    {
     "data": {
      "text/plain": [
       "(75, 46, 140, 1)"
      ]
     },
     "execution_count": 401,
     "metadata": {},
     "output_type": "execute_result"
    }
   ],
   "source": [
    "test.as_numpy_iterator().next()[0][0].shape"
   ]
  },
  {
   "cell_type": "code",
   "execution_count": 402,
   "id": "f9171056-a352-491a-9ed9-92b28ced268e",
   "metadata": {
    "tags": []
   },
   "outputs": [],
   "source": [
    "model = Sequential()\n",
    "model.add(Conv3D(128, 3, input_shape=(75,46,140,1), padding='same'))\n",
    "model.add(Activation('relu'))\n",
    "model.add(MaxPool3D((1,2,2)))\n",
    "\n",
    "model.add(Conv3D(256, 3, padding='same'))\n",
    "model.add(Activation('relu'))\n",
    "model.add(MaxPool3D((1,2,2)))\n",
    "\n",
    "model.add(Conv3D(75, 3, padding='same'))\n",
    "model.add(Activation('relu'))\n",
    "model.add(MaxPool3D((1,2,2)))\n",
    "\n",
    "model.add(TimeDistributed(Flatten()))\n",
    "\n",
    "model.add(Bidirectional(LSTM(128, kernel_initializer='Orthogonal', return_sequences=True)))\n",
    "model.add(Dropout(.5))\n",
    "\n",
    "model.add(Bidirectional(LSTM(128, kernel_initializer='Orthogonal', return_sequences=True)))\n",
    "model.add(Dropout(.5))\n",
    "\n",
    "model.add(Dense(char_to_num.vocabulary_size()+1, kernel_initializer='he_normal', activation='softmax'))"
   ]
  },
  {
   "cell_type": "code",
   "execution_count": 403,
   "id": "78851825-2bcd-42a9-b7f2-28bb5a6bf43a",
   "metadata": {
    "collapsed": true,
    "jupyter": {
     "outputs_hidden": true
    },
    "tags": []
   },
   "outputs": [
    {
     "name": "stdout",
     "output_type": "stream",
     "text": [
      "Model: \"sequential_4\"\n",
      "_________________________________________________________________\n",
      " Layer (type)                Output Shape              Param #   \n",
      "=================================================================\n",
      " conv3d_12 (Conv3D)          (None, 75, 46, 140, 128)  3584      \n",
      "                                                                 \n",
      " activation_12 (Activation)  (None, 75, 46, 140, 128)  0         \n",
      "                                                                 \n",
      " max_pooling3d_12 (MaxPoolin  (None, 75, 23, 70, 128)  0         \n",
      " g3D)                                                            \n",
      "                                                                 \n",
      " conv3d_13 (Conv3D)          (None, 75, 23, 70, 256)   884992    \n",
      "                                                                 \n",
      " activation_13 (Activation)  (None, 75, 23, 70, 256)   0         \n",
      "                                                                 \n",
      " max_pooling3d_13 (MaxPoolin  (None, 75, 11, 35, 256)  0         \n",
      " g3D)                                                            \n",
      "                                                                 \n",
      " conv3d_14 (Conv3D)          (None, 75, 11, 35, 75)    518475    \n",
      "                                                                 \n",
      " activation_14 (Activation)  (None, 75, 11, 35, 75)    0         \n",
      "                                                                 \n",
      " max_pooling3d_14 (MaxPoolin  (None, 75, 5, 17, 75)    0         \n",
      " g3D)                                                            \n",
      "                                                                 \n",
      " time_distributed_4 (TimeDis  (None, 75, 6375)         0         \n",
      " tributed)                                                       \n",
      "                                                                 \n",
      " bidirectional_8 (Bidirectio  (None, 75, 256)          6660096   \n",
      " nal)                                                            \n",
      "                                                                 \n",
      " dropout_8 (Dropout)         (None, 75, 256)           0         \n",
      "                                                                 \n",
      " bidirectional_9 (Bidirectio  (None, 75, 256)          394240    \n",
      " nal)                                                            \n",
      "                                                                 \n",
      " dropout_9 (Dropout)         (None, 75, 256)           0         \n",
      "                                                                 \n",
      " dense_4 (Dense)             (None, 75, 41)            10537     \n",
      "                                                                 \n",
      "=================================================================\n",
      "Total params: 8,471,924\n",
      "Trainable params: 8,471,924\n",
      "Non-trainable params: 0\n",
      "_________________________________________________________________\n"
     ]
    }
   ],
   "source": [
    "model.summary()"
   ]
  },
  {
   "cell_type": "code",
   "execution_count": 404,
   "id": "f4b4798c-a65a-4c47-9e2a-3b09dc98d320",
   "metadata": {},
   "outputs": [
    {
     "data": {
      "text/plain": [
       "6375"
      ]
     },
     "execution_count": 404,
     "metadata": {},
     "output_type": "execute_result"
    }
   ],
   "source": [
    "5*17*75"
   ]
  },
  {
   "cell_type": "code",
   "execution_count": 405,
   "id": "e5c2eae0-c359-41a4-97a0-75c44dccb7d1",
   "metadata": {
    "tags": []
   },
   "outputs": [
    {
     "name": "stdout",
     "output_type": "stream",
     "text": [
      "1/1 [==============================] - 2s 2s/step\n"
     ]
    }
   ],
   "source": [
    "yhat = model.predict(val[0])"
   ]
  },
  {
   "cell_type": "code",
   "execution_count": 406,
   "id": "ffdc7319-0d69-4f7e-a6d4-ce72deb81c0b",
   "metadata": {},
   "outputs": [
    {
     "data": {
      "text/plain": [
       "<tf.Tensor: shape=(), dtype=string, numpy=b'111111111111111111111111111111111111111111111111111111111111111111111111111'>"
      ]
     },
     "execution_count": 406,
     "metadata": {},
     "output_type": "execute_result"
    }
   ],
   "source": [
    "tf.strings.reduce_join([num_to_char(x) for x in tf.argmax(yhat[0],axis=1)])"
   ]
  },
  {
   "cell_type": "code",
   "execution_count": 407,
   "id": "6ed47531-8317-4255-9a12-b757642258e6",
   "metadata": {
    "tags": []
   },
   "outputs": [
    {
     "data": {
      "text/plain": [
       "<tf.Tensor: shape=(), dtype=string, numpy=b'111111111111111111111111111111111111111111111111111111111111111111111111111'>"
      ]
     },
     "execution_count": 407,
     "metadata": {},
     "output_type": "execute_result"
    }
   ],
   "source": [
    "tf.strings.reduce_join([num_to_char(tf.argmax(x)) for x in yhat[0]])"
   ]
  },
  {
   "cell_type": "code",
   "execution_count": 408,
   "id": "7c37b9b9-5298-4038-9c33-5031d1b457f0",
   "metadata": {
    "tags": []
   },
   "outputs": [
    {
     "data": {
      "text/plain": [
       "(None, 75, 46, 140, 1)"
      ]
     },
     "execution_count": 408,
     "metadata": {},
     "output_type": "execute_result"
    }
   ],
   "source": [
    "model.input_shape"
   ]
  },
  {
   "cell_type": "code",
   "execution_count": 409,
   "id": "98b316a4-5322-4782-8e36-4b3c1a696d85",
   "metadata": {
    "tags": []
   },
   "outputs": [
    {
     "data": {
      "text/plain": [
       "(None, 75, 41)"
      ]
     },
     "execution_count": 409,
     "metadata": {},
     "output_type": "execute_result"
    }
   ],
   "source": [
    "model.output_shape"
   ]
  },
  {
   "cell_type": "code",
   "execution_count": 410,
   "id": "ab015fd0-7fb4-4d5d-9fa2-30a05dbd515a",
   "metadata": {
    "tags": []
   },
   "outputs": [],
   "source": [
    "def scheduler(epoch, lr):\n",
    "    if epoch < 30:\n",
    "        return lr\n",
    "    else:\n",
    "        return lr * tf.math.exp(-0.1)"
   ]
  },
  {
   "cell_type": "code",
   "execution_count": 411,
   "id": "c564d5c9-db54-4e88-b311-9aeab7fb3e69",
   "metadata": {
    "tags": []
   },
   "outputs": [],
   "source": [
    "def CTCLoss(y_true, y_pred):\n",
    "    batch_len = tf.cast(tf.shape(y_true)[0], dtype=\"int64\")\n",
    "    input_length = tf.cast(tf.shape(y_pred)[1], dtype=\"int64\")\n",
    "    label_length = tf.cast(tf.shape(y_true)[1], dtype=\"int64\")\n",
    "\n",
    "    input_length = input_length * tf.ones(shape=(batch_len, 1), dtype=\"int64\")\n",
    "    label_length = label_length * tf.ones(shape=(batch_len, 1), dtype=\"int64\")\n",
    "\n",
    "    loss = tf.keras.backend.ctc_batch_cost(y_true, y_pred, input_length, label_length)\n",
    "    return loss"
   ]
  },
  {
   "cell_type": "code",
   "execution_count": 412,
   "id": "a26dc3fc-a19c-4378-bd8c-e2b597a1d15c",
   "metadata": {
    "tags": []
   },
   "outputs": [],
   "source": [
    "class ProduceExample(tf.keras.callbacks.Callback): \n",
    "    def __init__(self, dataset) -> None: \n",
    "        self.dataset = dataset.as_numpy_iterator()\n",
    "    \n",
    "    def on_epoch_end(self, epoch, logs=None) -> None:\n",
    "        data = self.dataset.next()\n",
    "        yhat = self.model.predict(data[0])\n",
    "        decoded = tf.keras.backend.ctc_decode(yhat, [75,75], greedy=False)[0][0].numpy()\n",
    "        for x in range(len(yhat)):           \n",
    "            print('Original:', tf.strings.reduce_join(num_to_char(data[1][x])).numpy().decode('utf-8'))\n",
    "            print('Prediction:', tf.strings.reduce_join(num_to_char(decoded[x])).numpy().decode('utf-8'))\n",
    "            print('~'*100)"
   ]
  },
  {
   "cell_type": "code",
   "execution_count": 413,
   "id": "04be90d8-2482-46f9-b513-d5f4f8001c7e",
   "metadata": {
    "tags": []
   },
   "outputs": [],
   "source": [
    "model.compile(optimizer=Adam(learning_rate=0.0001), loss=CTCLoss)"
   ]
  },
  {
   "cell_type": "code",
   "execution_count": 414,
   "id": "eab49367-3f1e-4464-ae76-dbd07549d97e",
   "metadata": {
    "tags": []
   },
   "outputs": [],
   "source": [
    "checkpoint_callback = ModelCheckpoint(os.path.join('models','checkpoint'), monitor='loss', save_weights_only=True) "
   ]
  },
  {
   "cell_type": "code",
   "execution_count": 415,
   "id": "e085a632-d464-46ef-8777-959cad4adb2c",
   "metadata": {
    "tags": []
   },
   "outputs": [],
   "source": [
    "schedule_callback = LearningRateScheduler(scheduler)"
   ]
  },
  {
   "cell_type": "code",
   "execution_count": 416,
   "id": "48eca991-90ab-4592-8a79-b50e9ca015b6",
   "metadata": {
    "tags": []
   },
   "outputs": [],
   "source": [
    "example_callback = ProduceExample(test)"
   ]
  },
  {
   "cell_type": "code",
   "execution_count": 417,
   "id": "8ffba483-aa61-4bbe-a15f-a73e1ddf097c",
   "metadata": {
    "tags": []
   },
   "outputs": [],
   "source": [
    "#model.fit(train, validation_data=test, epochs=0, callbacks=[checkpoint_callback, schedule_callback, example_callback])"
   ]
  },
  {
   "cell_type": "markdown",
   "id": "fa8ee94b-89f7-4733-8a0c-a86f86ff590a",
   "metadata": {
    "tags": []
   },
   "source": [
    "# 5. Make a Prediction "
   ]
  },
  {
   "cell_type": "code",
   "execution_count": 418,
   "id": "01fa7204-ce0e-49a8-8dbd-14fe5dfead40",
   "metadata": {
    "tags": []
   },
   "outputs": [
    {
     "data": {
      "text/plain": [
       "['models\\\\__MACOSX/models/._checkpoint.index',\n",
       " 'models\\\\__MACOSX/models/._checkpoint',\n",
       " 'models\\\\__MACOSX/models/._checkpoint.data-00000-of-00001',\n",
       " 'models\\\\checkpoint.data-00000-of-00001',\n",
       " 'models\\\\checkpoint.index',\n",
       " 'models\\\\checkpoint']"
      ]
     },
     "execution_count": 418,
     "metadata": {},
     "output_type": "execute_result"
    }
   ],
   "source": [
    "#url = 'https://drive.google.com/uc?id=1vWscXs4Vt0a_1IH1-ct2TCgXAZT-N3_Y'\n",
    "#output = 'checkpoints.zip'\n",
    "#gdown.download(url, output, quiet=False)\n",
    "gdown.extractall('models - checkpoint 50.zip', 'models')"
   ]
  },
  {
   "cell_type": "code",
   "execution_count": 419,
   "id": "247f664d-3c87-4e96-946e-930dad0e1c2c",
   "metadata": {
    "tags": []
   },
   "outputs": [
    {
     "data": {
      "text/plain": [
       "<tensorflow.python.checkpoint.checkpoint.CheckpointLoadStatus at 0x29c610f75b0>"
      ]
     },
     "execution_count": 419,
     "metadata": {},
     "output_type": "execute_result"
    }
   ],
   "source": [
    "model.load_weights('models/checkpoint')"
   ]
  },
  {
   "cell_type": "code",
   "execution_count": 420,
   "id": "7f8d689f-b7bb-443c-9b88-e40c1d800828",
   "metadata": {
    "tags": []
   },
   "outputs": [],
   "source": [
    "test_data = test.as_numpy_iterator()"
   ]
  },
  {
   "cell_type": "code",
   "execution_count": 421,
   "id": "38546dc2-bee9-4837-864b-8a884df40ad7",
   "metadata": {
    "tags": []
   },
   "outputs": [],
   "source": [
    "sample = test_data.next()"
   ]
  },
  {
   "cell_type": "code",
   "execution_count": 422,
   "id": "a43621f0-229d-4c0d-9554-9c3a3da9c61a",
   "metadata": {
    "tags": []
   },
   "outputs": [
    {
     "name": "stdout",
     "output_type": "stream",
     "text": [
      "1/1 [==============================] - 3s 3s/step\n"
     ]
    }
   ],
   "source": [
    "yhat = model.predict(sample[0])"
   ]
  },
  {
   "cell_type": "code",
   "execution_count": 423,
   "id": "ea462999-f87e-4a7e-a057-5be7b6d8f7d5",
   "metadata": {
    "tags": []
   },
   "outputs": [
    {
     "name": "stdout",
     "output_type": "stream",
     "text": [
      "~~~~~~~~~~~~~~~~~~~~~~~~~~~~~~~~~~~~~~~~~~~~~~~~~~~~~~~~~~~~~~~~~~~~~~~~~~~~~~~~~~~~~~~~~~~~~~~~~~~~ REAL TEXT\n"
     ]
    },
    {
     "data": {
      "text/plain": [
       "[<tf.Tensor: shape=(), dtype=string, numpy=b'place blue with j four please'>,\n",
       " <tf.Tensor: shape=(), dtype=string, numpy=b'set green with j seven again'>]"
      ]
     },
     "execution_count": 423,
     "metadata": {},
     "output_type": "execute_result"
    }
   ],
   "source": [
    "print('~'*100, 'REAL TEXT')\n",
    "[tf.strings.reduce_join([num_to_char(word) for word in sentence]) for sentence in sample[1]]"
   ]
  },
  {
   "cell_type": "code",
   "execution_count": 424,
   "id": "82bd4c10-dd6e-411e-834b-2a3b43fd12c5",
   "metadata": {
    "tags": []
   },
   "outputs": [],
   "source": [
    "decoded = tf.keras.backend.ctc_decode(yhat, input_length=[75,75], greedy=True)[0][0].numpy()"
   ]
  },
  {
   "cell_type": "code",
   "execution_count": 425,
   "id": "5d68ac46-c90b-4eab-a709-f19aee569ff5",
   "metadata": {
    "tags": []
   },
   "outputs": [
    {
     "name": "stdout",
     "output_type": "stream",
     "text": [
      "~~~~~~~~~~~~~~~~~~~~~~~~~~~~~~~~~~~~~~~~~~~~~~~~~~~~~~~~~~~~~~~~~~~~~~~~~~~~~~~~~~~~~~~~~~~~~~~~~~~~ PREDICTIONS\n"
     ]
    },
    {
     "data": {
      "text/plain": [
       "[<tf.Tensor: shape=(), dtype=string, numpy=b'se ben s seve slease'>,\n",
       " <tf.Tensor: shape=(), dtype=string, numpy=b'se lee in s six plaien'>]"
      ]
     },
     "execution_count": 425,
     "metadata": {},
     "output_type": "execute_result"
    }
   ],
   "source": [
    "print('~'*100, 'PREDICTIONS')\n",
    "[tf.strings.reduce_join([num_to_char(word) for word in sentence]) for sentence in decoded]\n",
    "#bin blue at f two now"
   ]
  },
  {
   "cell_type": "markdown",
   "id": "64622f98-e99b-4fed-a2cc-f0da82eb5431",
   "metadata": {},
   "source": [
    "# Test on a Video"
   ]
  },
  {
   "cell_type": "code",
   "execution_count": 426,
   "id": "a8b0c4d0-2031-4331-b91d-d87b1ae6f6e2",
   "metadata": {},
   "outputs": [],
   "source": [
    "sample = load_data(tf.convert_to_tensor('.\\\\data\\\\s1\\\\bbaf2n.mpg'))"
   ]
  },
  {
   "cell_type": "code",
   "execution_count": 427,
   "id": "0cca60e4-47a9-4683-8a75-48f4684f723d",
   "metadata": {},
   "outputs": [
    {
     "name": "stdout",
     "output_type": "stream",
     "text": [
      "~~~~~~~~~~~~~~~~~~~~~~~~~~~~~~~~~~~~~~~~~~~~~~~~~~~~~~~~~~~~~~~~~~~~~~~~~~~~~~~~~~~~~~~~~~~~~~~~~~~~ REAL TEXT\n"
     ]
    },
    {
     "data": {
      "text/plain": [
       "[<tf.Tensor: shape=(), dtype=string, numpy=b'bin blue at f two now'>]"
      ]
     },
     "execution_count": 427,
     "metadata": {},
     "output_type": "execute_result"
    }
   ],
   "source": [
    "print('~'*100, 'REAL TEXT')\n",
    "[tf.strings.reduce_join([num_to_char(word) for word in sentence]) for sentence in [sample[1]]]"
   ]
  },
  {
   "cell_type": "code",
   "execution_count": 428,
   "id": "8cc5037c-1e32-435c-b0cc-01e1fb3b863c",
   "metadata": {},
   "outputs": [
    {
     "name": "stdout",
     "output_type": "stream",
     "text": [
      "1/1 [==============================] - 1s 763ms/step\n"
     ]
    }
   ],
   "source": [
    "yhat = model.predict(tf.expand_dims(sample[0], axis=0))"
   ]
  },
  {
   "cell_type": "code",
   "execution_count": 429,
   "id": "22c4f77d-715d-409f-bc5e-3ebe48704e8f",
   "metadata": {},
   "outputs": [],
   "source": [
    "decoded = tf.keras.backend.ctc_decode(yhat, input_length=[75], greedy=True)[0][0].numpy()"
   ]
  },
  {
   "cell_type": "code",
   "execution_count": 430,
   "id": "e4d12ecc-b634-499e-a4bc-db9f010835fb",
   "metadata": {},
   "outputs": [
    {
     "name": "stdout",
     "output_type": "stream",
     "text": [
      "~~~~~~~~~~~~~~~~~~~~~~~~~~~~~~~~~~~~~~~~~~~~~~~~~~~~~~~~~~~~~~~~~~~~~~~~~~~~~~~~~~~~~~~~~~~~~~~~~~~~ PREDICTIONS\n"
     ]
    },
    {
     "data": {
      "text/plain": [
       "[<tf.Tensor: shape=(), dtype=string, numpy=b'se blee bt s sisi please'>]"
      ]
     },
     "execution_count": 430,
     "metadata": {},
     "output_type": "execute_result"
    }
   ],
   "source": [
    "print('~'*100, 'PREDICTIONS')\n",
    "[tf.strings.reduce_join([num_to_char(word) for word in sentence]) for sentence in decoded]"
   ]
  },
  {
   "cell_type": "code",
   "execution_count": null,
   "id": "551dfea2-de6b-4400-b71a-a17631529e3f",
   "metadata": {},
   "outputs": [],
   "source": []
  },
  {
   "cell_type": "code",
   "execution_count": null,
   "id": "fa95863d-3832-47bf-8a77-ebaa38054ace",
   "metadata": {},
   "outputs": [],
   "source": []
  }
 ],
 "metadata": {
  "kernelspec": {
   "display_name": "Python 3",
   "language": "python",
   "name": "python3"
  },
  "language_info": {
   "codemirror_mode": {
    "name": "ipython",
    "version": 3
   },
   "file_extension": ".py",
   "mimetype": "text/x-python",
   "name": "python",
   "nbconvert_exporter": "python",
   "pygments_lexer": "ipython3",
   "version": "3.9.1"
  }
 },
 "nbformat": 4,
 "nbformat_minor": 5
}
